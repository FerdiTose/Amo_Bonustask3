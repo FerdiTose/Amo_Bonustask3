{
 "cells": [
  {
   "cell_type": "code",
   "execution_count": 55,
   "id": "32d7f83e",
   "metadata": {},
   "outputs": [
    {
     "name": "stderr",
     "output_type": "stream",
     "text": [
      "\u001b[32m\u001b[1m  Activating\u001b[22m\u001b[39m project at `C:\\Users\\Ferdi`\n"
     ]
    }
   ],
   "source": [
    "using Pkg\n",
    "Pkg.activate(\".\")\n",
    "Pkg.instantiate()"
   ]
  },
  {
   "cell_type": "code",
   "execution_count": 56,
   "id": "0576426c",
   "metadata": {},
   "outputs": [],
   "source": [
    "using HiGHS\n",
    "using JuMP\n",
    "#using Plots\n",
    "#using XLSX\n",
    "#using DataFrames\n",
    "#using Ipopt\n",
    "#using Complementarity"
   ]
  },
  {
   "cell_type": "code",
   "execution_count": 57,
   "id": "682cda50",
   "metadata": {},
   "outputs": [
    {
     "data": {
      "text/plain": [
       "3×3 Matrix{Int64}:\n",
       "  5  10  10\n",
       " 15  20  15\n",
       " 30  15  10"
      ]
     },
     "execution_count": 57,
     "metadata": {},
     "output_type": "execute_result"
    }
   ],
   "source": [
    "T=3 #Number of time periods\n",
    "W=3 #Number of scenarios\n",
    "probW=[0.2,0.3,0.5] #Probability of scenarios\n",
    "\n",
    "EGmax=5 #max energy production Mw at VPP\n",
    "EGmin=1 #min \"\"\n",
    "\n",
    "ELmax=2   #max energy consumption\n",
    "ELmin=0.5 #min \"\"\n",
    "EL_floor= 2 # energy must be consumend in T\n",
    "\n",
    "PdSmax=0.5 #max discharging power\n",
    "PcSmax=0.3 #max charging power\n",
    "ndS=0.8 #loss by discharging\n",
    "ncS=0.8 #loss by charging \n",
    "ESmax=1   #max energy storage\n",
    "ESmin=0.2 #min \"\" \n",
    "E_S0=0.6 #energy storage t=0\n",
    "\n",
    "PWexcept=[3.3,3.0,3.00] #forcast power production for periods\n",
    "PW=[2.5 6.0 2.0; #power production at t in w\n",
    "    4.0 4.0 1.1;\n",
    "    6.0 3.5 1.5]\n",
    "\n",
    "yD=[20,80,45] #market price\n",
    "\n",
    "Utility=[10 20 10; #utility at t in w\n",
    "    50 20 20;\n",
    "    10 30 10]\n",
    "Cost = [5 10 10; #cost of production at t in w\n",
    "    15 20 15;\n",
    "    30 15 10]"
   ]
  },
  {
   "cell_type": "code",
   "execution_count": 58,
   "id": "31d5042f",
   "metadata": {},
   "outputs": [
    {
     "data": {
      "text/plain": [
       "3×3 Matrix{VariableRef}:\n",
       " PWcurt[1,1]  PWcurt[1,2]  PWcurt[1,3]\n",
       " PWcurt[2,1]  PWcurt[2,2]  PWcurt[2,3]\n",
       " PWcurt[3,1]  PWcurt[3,2]  PWcurt[3,3]"
      ]
     },
     "execution_count": 58,
     "metadata": {},
     "output_type": "execute_result"
    }
   ],
   "source": [
    "m3 = Model(HiGHS.Optimizer)\n",
    "\n",
    "\n",
    "@variable(m3, v[t in 1:T, w in 1:W], Bin)\n",
    "@variable(m3, E_G[t in 1:T, w in 1:W])\n",
    "@variable(m3, E_L[t in 1:T, w in 1:W])\n",
    "@variable(m3, E_S[t in 1:T, w in 1:W])\n",
    "@variable(m3, Pd_S[t in 1:T, w in 1:W] >= 0)\n",
    "@variable(m3, Pc_S[t in 1:T, w in 1:W] >= 0)\n",
    "@variable(m3, P_D[t in 1:T])\n",
    "@variable(m3, PWcurt[t in 1:T, w in 1:W] >= 0)\n"
   ]
  },
  {
   "cell_type": "code",
   "execution_count": 59,
   "id": "9c8ed64c",
   "metadata": {},
   "outputs": [
    {
     "data": {
      "text/plain": [
       "(ConstraintRef{Model, MathOptInterface.ConstraintIndex{MathOptInterface.ScalarAffineFunction{Float64}, MathOptInterface.LessThan{Float64}}, ScalarShape}[VPPenergyproductionlow[1,1] : v[1,1] - E_G[1,1] <= 0 VPPenergyproductionlow[1,2] : v[1,2] - E_G[1,2] <= 0 VPPenergyproductionlow[1,3] : v[1,3] - E_G[1,3] <= 0; VPPenergyproductionlow[2,1] : v[2,1] - E_G[2,1] <= 0 VPPenergyproductionlow[2,2] : v[2,2] - E_G[2,2] <= 0 VPPenergyproductionlow[2,3] : v[2,3] - E_G[2,3] <= 0; VPPenergyproductionlow[3,1] : v[3,1] - E_G[3,1] <= 0 VPPenergyproductionlow[3,2] : v[3,2] - E_G[3,2] <= 0 VPPenergyproductionlow[3,3] : v[3,3] - E_G[3,3] <= 0], ConstraintRef{Model, MathOptInterface.ConstraintIndex{MathOptInterface.ScalarAffineFunction{Float64}, MathOptInterface.LessThan{Float64}}, ScalarShape}[VPPenergyproductionup[1,1] : -5 v[1,1] + E_G[1,1] <= 0 VPPenergyproductionup[1,2] : -5 v[1,2] + E_G[1,2] <= 0 VPPenergyproductionup[1,3] : -5 v[1,3] + E_G[1,3] <= 0; VPPenergyproductionup[2,1] : -5 v[2,1] + E_G[2,1] <= 0 VPPenergyproductionup[2,2] : -5 v[2,2] + E_G[2,2] <= 0 VPPenergyproductionup[2,3] : -5 v[2,3] + E_G[2,3] <= 0; VPPenergyproductionup[3,1] : -5 v[3,1] + E_G[3,1] <= 0 VPPenergyproductionup[3,2] : -5 v[3,2] + E_G[3,2] <= 0 VPPenergyproductionup[3,3] : -5 v[3,3] + E_G[3,3] <= 0], ConstraintRef{Model, MathOptInterface.ConstraintIndex{MathOptInterface.ScalarAffineFunction{Float64}, MathOptInterface.Interval{Float64}}, ScalarShape}[loadenergyconsumption[1,1] : E_L[1,1] in [0.5, 2] loadenergyconsumption[1,2] : E_L[1,2] in [0.5, 2] loadenergyconsumption[1,3] : E_L[1,3] in [0.5, 2]; loadenergyconsumption[2,1] : E_L[2,1] in [0.5, 2] loadenergyconsumption[2,2] : E_L[2,2] in [0.5, 2] loadenergyconsumption[2,3] : E_L[2,3] in [0.5, 2]; loadenergyconsumption[3,1] : E_L[3,1] in [0.5, 2] loadenergyconsumption[3,2] : E_L[3,2] in [0.5, 2] loadenergyconsumption[3,3] : E_L[3,3] in [0.5, 2]], ConstraintRef{Model, MathOptInterface.ConstraintIndex{MathOptInterface.ScalarAffineFunction{Float64}, MathOptInterface.LessThan{Float64}}, ScalarShape}[floorenergyconsumption[1,1] : -E_L[1,1] - E_L[2,1] - E_L[3,1] <= -2 floorenergyconsumption[1,2] : -E_L[1,2] - E_L[2,2] - E_L[3,2] <= -2 floorenergyconsumption[1,3] : -E_L[1,3] - E_L[2,3] - E_L[3,3] <= -2; floorenergyconsumption[2,1] : -E_L[1,1] - E_L[2,1] - E_L[3,1] <= -2 floorenergyconsumption[2,2] : -E_L[1,2] - E_L[2,2] - E_L[3,2] <= -2 floorenergyconsumption[2,3] : -E_L[1,3] - E_L[2,3] - E_L[3,3] <= -2; floorenergyconsumption[3,1] : -E_L[1,1] - E_L[2,1] - E_L[3,1] <= -2 floorenergyconsumption[3,2] : -E_L[1,2] - E_L[2,2] - E_L[3,2] <= -2 floorenergyconsumption[3,3] : -E_L[1,3] - E_L[2,3] - E_L[3,3] <= -2], ConstraintRef{Model, MathOptInterface.ConstraintIndex{MathOptInterface.ScalarAffineFunction{Float64}, MathOptInterface.LessThan{Float64}}, ScalarShape}[storagedischarging[1,1] : Pd_S[1,1] <= 0.5 storagedischarging[1,2] : Pd_S[1,2] <= 0.5 storagedischarging[1,3] : Pd_S[1,3] <= 0.5; storagedischarging[2,1] : Pd_S[2,1] <= 0.5 storagedischarging[2,2] : Pd_S[2,2] <= 0.5 storagedischarging[2,3] : Pd_S[2,3] <= 0.5; storagedischarging[3,1] : Pd_S[3,1] <= 0.5 storagedischarging[3,2] : Pd_S[3,2] <= 0.5 storagedischarging[3,3] : Pd_S[3,3] <= 0.5], ConstraintRef{Model, MathOptInterface.ConstraintIndex{MathOptInterface.ScalarAffineFunction{Float64}, MathOptInterface.LessThan{Float64}}, ScalarShape}[storagecharging[1,1] : Pc_S[1,1] <= 0.3 storagecharging[1,2] : Pc_S[1,2] <= 0.3 storagecharging[1,3] : Pc_S[1,3] <= 0.3; storagecharging[2,1] : Pc_S[2,1] <= 0.3 storagecharging[2,2] : Pc_S[2,2] <= 0.3 storagecharging[2,3] : Pc_S[2,3] <= 0.3; storagecharging[3,1] : Pc_S[3,1] <= 0.3 storagecharging[3,2] : Pc_S[3,2] <= 0.3 storagecharging[3,3] : Pc_S[3,3] <= 0.3], ConstraintRef{Model, MathOptInterface.ConstraintIndex{MathOptInterface.ScalarAffineFunction{Float64}, MathOptInterface.EqualTo{Float64}}, ScalarShape}[storagelevel1[1,1] : E_S[1,1] + 1.25 Pd_S[1,1] - 0.8 Pc_S[1,1] == 0.6 storagelevel1[1,2] : E_S[1,2] + 1.25 Pd_S[1,2] - 0.8 Pc_S[1,2] == 0.6 storagelevel1[1,3] : E_S[1,3] + 1.25 Pd_S[1,3] - 0.8 Pc_S[1,3] == 0.6], 2-dimensional DenseAxisArray{ConstraintRef{Model, MathOptInterface.ConstraintIndex{MathOptInterface.ScalarAffineFunction{Float64}, MathOptInterface.EqualTo{Float64}}, ScalarShape},2,...} with index sets:\n",
       "    Dimension 1, 2:3\n",
       "    Dimension 2, Base.OneTo(3)\n",
       "And data, a 2×3 Matrix{ConstraintRef{Model, MathOptInterface.ConstraintIndex{MathOptInterface.ScalarAffineFunction{Float64}, MathOptInterface.EqualTo{Float64}}, ScalarShape}}:\n",
       " storagelevel[2,1] : -E_S[1,1] + E_S[2,1] + 1.25 Pd_S[2,1] - 0.8 Pc_S[2,1] == 0  …  storagelevel[2,3] : -E_S[1,3] + E_S[2,3] + 1.25 Pd_S[2,3] - 0.8 Pc_S[2,3] == 0\n",
       " storagelevel[3,1] : -E_S[2,1] + E_S[3,1] + 1.25 Pd_S[3,1] - 0.8 Pc_S[3,1] == 0     storagelevel[3,3] : -E_S[2,3] + E_S[3,3] + 1.25 Pd_S[3,3] - 0.8 Pc_S[3,3] == 0, ConstraintRef{Model, MathOptInterface.ConstraintIndex{MathOptInterface.ScalarAffineFunction{Float64}, MathOptInterface.Interval{Float64}}, ScalarShape}[storagelevelcapacity[1,1] : E_S[1,1] in [0.2, 1] storagelevelcapacity[1,2] : E_S[1,2] in [0.2, 1] storagelevelcapacity[1,3] : E_S[1,3] in [0.2, 1]; storagelevelcapacity[2,1] : E_S[2,1] in [0.2, 1] storagelevelcapacity[2,2] : E_S[2,2] in [0.2, 1] storagelevelcapacity[2,3] : E_S[2,3] in [0.2, 1]; storagelevelcapacity[3,1] : E_S[3,1] in [0.2, 1] storagelevelcapacity[3,2] : E_S[3,2] in [0.2, 1] storagelevelcapacity[3,3] : E_S[3,3] in [0.2, 1]], ConstraintRef{Model, MathOptInterface.ConstraintIndex{MathOptInterface.ScalarAffineFunction{Float64}, MathOptInterface.LessThan{Float64}}, ScalarShape}[PVproductioncurtailment[1,1] : PWcurt[1,1] <= 2.5 PVproductioncurtailment[1,2] : PWcurt[1,2] <= 6 PVproductioncurtailment[1,3] : PWcurt[1,3] <= 2; PVproductioncurtailment[2,1] : PWcurt[2,1] <= 4 PVproductioncurtailment[2,2] : PWcurt[2,2] <= 4 PVproductioncurtailment[2,3] : PWcurt[2,3] <= 1.1; PVproductioncurtailment[3,1] : PWcurt[3,1] <= 6 PVproductioncurtailment[3,2] : PWcurt[3,2] <= 3.5 PVproductioncurtailment[3,3] : PWcurt[3,3] <= 1.5], ConstraintRef{Model, MathOptInterface.ConstraintIndex{MathOptInterface.ScalarAffineFunction{Float64}, MathOptInterface.EqualTo{Float64}}, ScalarShape}[energybalance[1,1] : E_G[1,1] - E_L[1,1] + Pd_S[1,1] - Pc_S[3,1] - P_D[1] - PWcurt[1,1] == -2.5 energybalance[1,2] : E_G[1,2] - E_L[1,2] + Pd_S[1,2] - Pc_S[3,2] - P_D[1] - PWcurt[1,2] == -6 energybalance[1,3] : E_G[1,3] - E_L[1,3] + Pd_S[1,3] - Pc_S[3,3] - P_D[1] - PWcurt[1,3] == -2; energybalance[2,1] : E_G[2,1] - E_L[2,1] + Pd_S[2,1] - Pc_S[3,1] - P_D[2] - PWcurt[2,1] == -4 energybalance[2,2] : E_G[2,2] - E_L[2,2] + Pd_S[2,2] - Pc_S[3,2] - P_D[2] - PWcurt[2,2] == -4 energybalance[2,3] : E_G[2,3] - E_L[2,3] + Pd_S[2,3] - Pc_S[3,3] - P_D[2] - PWcurt[2,3] == -1.1; energybalance[3,1] : E_G[3,1] - E_L[3,1] + Pd_S[3,1] - Pc_S[3,1] - P_D[3] - PWcurt[3,1] == -6 energybalance[3,2] : E_G[3,2] - E_L[3,2] + Pd_S[3,2] - Pc_S[3,2] - P_D[3] - PWcurt[3,2] == -3.5 energybalance[3,3] : E_G[3,3] - E_L[3,3] + Pd_S[3,3] - Pc_S[3,3] - P_D[3] - PWcurt[3,3] == -1.5])"
      ]
     },
     "execution_count": 59,
     "metadata": {},
     "output_type": "execute_result"
    }
   ],
   "source": [
    "@constraints(m3, begin\n",
    "        VPPenergyproductionlow[t in 1:T, w in 1:W], v[t,w]*EGmin <= E_G[t,w]\n",
    "        VPPenergyproductionup[t in 1:T, w in 1:W], E_G[t,w] <= v[t,w]*EGmax\n",
    "        loadenergyconsumption[t in 1:T, w in 1:W], ELmin <= E_L[t,w] <= ELmax\n",
    "        floorenergyconsumption[t in 1:T, w in 1:W], EL_floor <= sum(E_L[t,w] for t in 1:T)\n",
    "        storagedischarging[t in 1:T, w in 1:W], Pd_S[t,w] <= PdSmax\n",
    "        storagecharging[t in 1:T, w in 1:W], Pc_S[t,w] <= PcSmax\n",
    "        storagelevel1[t in 1:1, w in 1:W], E_S[t,w] == E_S0 + ncS*Pc_S[t,w] - (1/ndS)*Pd_S[t,w]\n",
    "        storagelevel[t in 2:T, w in 1:W], E_S[t,w] == E_S[t-1,w] + ncS*Pc_S[t,w] - (1/ndS)*Pd_S[t,w]\n",
    "        storagelevelcapacity[t in 1:T, w in 1:W], ESmin <= E_S[t,w] <=ESmax\n",
    "        PVproductioncurtailment[t in 1:T, w in 1:W], PWcurt[t,w] <= PW[t,w]\n",
    "        energybalance[t in 1:T, w in 1:W], E_G[t,w] + PW[t,w] - PWcurt[t,w] + Pd_S[t,w] == E_L[t,w] + Pc_S[T,w] + P_D[t]\n",
    "    end)"
   ]
  },
  {
   "cell_type": "code",
   "execution_count": 60,
   "id": "aed20a1b",
   "metadata": {
    "scrolled": true
   },
   "outputs": [
    {
     "name": "stdout",
     "output_type": "stream",
     "text": [
      "Running HiGHS 1.6.0: Copyright (c) 2023 HiGHS under MIT licence terms\n",
      "Presolving model\n",
      "45 rows, 66 cols, 150 nonzeros\n",
      "39 rows, 66 cols, 132 nonzeros\n",
      "\n",
      "Solving MIP model with:\n",
      "   39 rows\n",
      "   66 cols (9 binary, 0 integer, 0 implied int., 57 continuous)\n",
      "   132 nonzeros\n",
      "\n",
      "        Nodes      |    B&B Tree     |            Objective Bounds              |  Dynamic Constraints |       Work      \n",
      "     Proc. InQueue |  Leaves   Expl. | BestBound       BestSol              Gap |   Cuts   InLp Confl. | LpIters     Time\n",
      "\n",
      "         0       0         0   0.00%   1030.5          -inf                 inf        0      0      0         0     0.0s\n",
      " R       0       0         0   0.00%   812.418         650.986           24.80%        0      0      0        21     0.0s\n",
      " C       0       0         0   0.00%   809.53          669.034           21.00%       39      6      0        34     0.0s\n",
      " T       0       0         0   0.00%   809.53          809.53             0.00%       39      6      0        34     0.0s\n",
      "\n",
      "Solving report\n",
      "  Status            Optimal\n",
      "  Primal bound      809.53\n",
      "  Dual bound        809.53\n",
      "  Gap               0% (tolerance: 0.01%)\n",
      "  Solution status   feasible\n",
      "                    809.53 (objective)\n",
      "                    0 (bound viol.)\n",
      "                    2.44249065418e-15 (int. viol.)\n",
      "                    0 (row viol.)\n",
      "  Timing            0.00 (total)\n",
      "                    0.00 (presolve)\n",
      "                    0.00 (postsolve)\n",
      "  Nodes             1\n",
      "  LP iterations     34 (total)\n",
      "                    0 (strong br.)\n",
      "                    13 (separation)\n",
      "                    0 (heuristics)\n"
     ]
    }
   ],
   "source": [
    "@objective(m3, Max,(sum(yD[t]*P_D[t] + sum(probW[w] * (Utility[t,w]*E_L[t,w] - Cost[t,w]*E_G[t,w]) for w in 1:W) for t in 1:T)))\n",
    "optimize!(m3)"
   ]
  },
  {
   "cell_type": "code",
   "execution_count": 61,
   "id": "4eb33ddb",
   "metadata": {},
   "outputs": [
    {
     "data": {
      "text/plain": [
       "809.53"
      ]
     },
     "execution_count": 61,
     "metadata": {},
     "output_type": "execute_result"
    }
   ],
   "source": [
    "objective_value(m3)"
   ]
  },
  {
   "cell_type": "code",
   "execution_count": null,
   "id": "3f09b2d5",
   "metadata": {},
   "outputs": [],
   "source": []
  },
  {
   "cell_type": "code",
   "execution_count": null,
   "id": "4c4f3a5c",
   "metadata": {},
   "outputs": [],
   "source": []
  },
  {
   "cell_type": "code",
   "execution_count": null,
   "id": "1d95770f",
   "metadata": {},
   "outputs": [],
   "source": []
  }
 ],
 "metadata": {
  "kernelspec": {
   "display_name": "Julia 1.9.3",
   "language": "julia",
   "name": "julia-1.9"
  },
  "language_info": {
   "file_extension": ".jl",
   "mimetype": "application/julia",
   "name": "julia",
   "version": "1.9.3"
  }
 },
 "nbformat": 4,
 "nbformat_minor": 5
}
