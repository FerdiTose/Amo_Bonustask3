{
 "cells": [
  {
   "cell_type": "markdown",
   "id": "09de00d8",
   "metadata": {},
   "source": [
    "# Bonustask 4: Benders' decomposition"
   ]
  },
  {
   "cell_type": "code",
   "execution_count": 113,
   "id": "8b91ccad",
   "metadata": {},
   "outputs": [
    {
     "name": "stderr",
     "output_type": "stream",
     "text": [
      "\u001b[32m\u001b[1m  Activating\u001b[22m\u001b[39m project at `C:\\Users\\Ferdi`\n"
     ]
    }
   ],
   "source": [
    "using Pkg\n",
    "Pkg.activate(\".\")\n",
    "Pkg.instantiate()"
   ]
  },
  {
   "cell_type": "code",
   "execution_count": 114,
   "id": "e4cce5d8",
   "metadata": {},
   "outputs": [
    {
     "name": "stderr",
     "output_type": "stream",
     "text": [
      "\u001b[32m\u001b[1m   Resolving\u001b[22m\u001b[39m package versions...\n",
      "\u001b[32m\u001b[1m  No Changes\u001b[22m\u001b[39m to `C:\\Users\\Ferdi\\Project.toml`\n",
      "\u001b[32m\u001b[1m  No Changes\u001b[22m\u001b[39m to `C:\\Users\\Ferdi\\Manifest.toml`\n"
     ]
    }
   ],
   "source": [
    "import Pkg; Pkg.add(\"GLPK\")"
   ]
  },
  {
   "cell_type": "code",
   "execution_count": 175,
   "id": "36e74eeb",
   "metadata": {},
   "outputs": [],
   "source": [
    "using HiGHS\n",
    "using JuMP"
   ]
  },
  {
   "cell_type": "markdown",
   "id": "fcd9c3f0",
   "metadata": {},
   "source": [
    "## Parameter"
   ]
  },
  {
   "cell_type": "code",
   "execution_count": 188,
   "id": "efc6622a",
   "metadata": {},
   "outputs": [],
   "source": [
    "alphadown = -25;\n",
    "maxIteration = 15;"
   ]
  },
  {
   "cell_type": "markdown",
   "id": "99bfb2dc",
   "metadata": {},
   "source": [
    "## Modelling the main Problem #"
   ]
  },
  {
   "cell_type": "code",
   "execution_count": 189,
   "id": "923aef6f",
   "metadata": {},
   "outputs": [
    {
     "data": {
      "text/latex": [
       "$$ \\begin{aligned}\n",
       "\\min\\quad & -0.25 x + α\\\\\n",
       "\\text{Subject to} \\quad & x \\geq 0\\\\\n",
       " & α \\geq -25\\\\\n",
       " & x \\leq 16\\\\\n",
       "\\end{aligned} $$"
      ]
     },
     "metadata": {},
     "output_type": "display_data"
    }
   ],
   "source": [
    "masterProblem = Model(HiGHS.Optimizer)\n",
    "set_silent(masterProblem)\n",
    "@variable(masterProblem, 0 <= x <= 16)\n",
    "@variable(masterProblem, α >= alphadown)\n",
    "@objective(masterProblem, Min, -0.25*x+α)\n",
    "print(masterProblem)"
   ]
  },
  {
   "cell_type": "code",
   "execution_count": 190,
   "id": "381ae364",
   "metadata": {},
   "outputs": [
    {
     "name": "stdout",
     "output_type": "stream",
     "text": [
      "16.0\n",
      "-25.0\n"
     ]
    }
   ],
   "source": [
    "optimize!(masterProblem)\n",
    "X=value(x)\n",
    "α1 = value(α)\n",
    "\n",
    "println(value(X))\n",
    "println(value(α1))"
   ]
  },
  {
   "cell_type": "markdown",
   "id": "7ab69dac",
   "metadata": {},
   "source": [
    "## Modelling the sub Problem"
   ]
  },
  {
   "cell_type": "code",
   "execution_count": 191,
   "id": "0e3f3c20",
   "metadata": {},
   "outputs": [
    {
     "data": {
      "text/plain": [
       "sub (generic function with 1 method)"
      ]
     },
     "execution_count": 191,
     "metadata": {},
     "output_type": "execute_result"
    }
   ],
   "source": [
    "function sub(x)\n",
    "    subProblem = Model(HiGHS.Optimizer)\n",
    "    set_silent(subProblem)\n",
    "    @variable(subProblem, y >= 0)\n",
    "    @objective(subProblem, Min, -y)\n",
    "    \n",
    "    @constraint(subProblem, λ, y-x <= 5)\n",
    "    @constraint(subProblem, γ, y- x/2 <= 15/2)\n",
    "    @constraint(subProblem, μ, y+ x/2 <= 35/2)\n",
    "    @constraint(subProblem, β, -y+ x <= 10)\n",
    "    optimize!(subProblem)\n",
    "    Zup = -0.25*X-value(y)\n",
    "    Zlb = -0.25*X + value(α)\n",
    "    return value(y), shadow_price(λ), shadow_price(γ), shadow_price(μ), shadow_price(β), Zup - Zlb, objective_value(subProblem)\n",
    "end"
   ]
  },
  {
   "cell_type": "markdown",
   "id": "b0020479",
   "metadata": {},
   "source": [
    "## Solving the Problem"
   ]
  },
  {
   "cell_type": "code",
   "execution_count": 192,
   "id": "7834e069",
   "metadata": {},
   "outputs": [
    {
     "data": {
      "text/plain": [
       "(9.5, 0.0, 0.0, -1.0, 0.0, 15.5, -9.5)"
      ]
     },
     "execution_count": 192,
     "metadata": {},
     "output_type": "execute_result"
    }
   ],
   "source": [
    "Y, λ, γ, μ, β, gap, objvSub =sub(X)"
   ]
  },
  {
   "cell_type": "code",
   "execution_count": 193,
   "id": "1ee73ea7",
   "metadata": {},
   "outputs": [
    {
     "name": "stdout",
     "output_type": "stream",
     "text": [
      "Iteration: 1\n",
      "Gap: 15.5\n",
      "Objective Value SubProblem: -9.5\n",
      "Objective Value MasterProblem: -17.5\n",
      "x in the nex Iteration: 0.0\n",
      "α in the nex Iteration: -17.5\n",
      "\n",
      "Iteration: 2\n",
      "Gap: 12.5\n",
      "Objective Value SubProblem: -5.0\n",
      "Objective Value MasterProblem: -15.416666666666666\n",
      "x in the nex Iteration: 8.333333333333334\n",
      "α in the nex Iteration: -13.333333333333332\n",
      "\n",
      "Iteration: 3\n",
      "Gap: 1.6666666666666643\n",
      "Objective Value SubProblem: -11.666666666666668\n",
      "Objective Value MasterProblem: -15.0\n",
      "x in the nex Iteration: 10.0\n",
      "α in the nex Iteration: -12.5\n",
      "\n",
      "\n",
      "\n",
      "The optimal solution has been found! It Took 3 iterations\n",
      "Objective Value SubProblem: -12.5\n",
      "Objective Value MasterProblem: -15.0\n",
      "Gap: 0.0\n",
      "x: 10.0\n",
      "α: -12.5\n"
     ]
    }
   ],
   "source": [
    "for k in 1: maxIteration\n",
    "    println(\"Iteration: \", k) \n",
    "    println(\"Gap: \", gap)\n",
    "    println(\"Objective Value SubProblem: \", objvSub)\n",
    "    unregister(masterProblem, :duality)\n",
    "    @constraint(masterProblem, duality[i in 1:maxIteration], α >= -λ*(-5-x) - γ*(-15/2 - 0.5x) - μ*(-35/2 + 0.5x) - β*(-10+x))\n",
    "    optimize!(masterProblem)\n",
    "    println(\"Objective Value MasterProblem: \", objective_value(masterProblem))\n",
    "    println(\"x in the nex Iteration: \", value(x))\n",
    "    println(\"α in the nex Iteration: \", value(α))\n",
    "    X=value(x)\n",
    "    \n",
    "    \n",
    "    Y, λ, γ, μ, β, gap, objvSub =sub(X)\n",
    "    if gap <= 0.000001\n",
    "        println()\n",
    "        println()\n",
    "        println()\n",
    "        println(\"The optimal solution has been found! It Took $k iterations.\")\n",
    "        println(\"Objective Value SubProblem: \", objvSub)\n",
    "        println(\"Objective Value MasterProblem: \", objective_value(masterProblem))\n",
    "        println(\"Gap: \", gap)\n",
    "        println(\"x: \", value(x))\n",
    "        println(\"α: \", value(α))\n",
    "        \n",
    "        \n",
    "        \n",
    "        break\n",
    "    end\n",
    "    println()\n",
    "    \n",
    "    \n",
    "end"
   ]
  }
 ],
 "metadata": {
  "kernelspec": {
   "display_name": "Julia 1.9.3",
   "language": "julia",
   "name": "julia-1.9"
  },
  "language_info": {
   "file_extension": ".jl",
   "mimetype": "application/julia",
   "name": "julia",
   "version": "1.9.3"
  }
 },
 "nbformat": 4,
 "nbformat_minor": 5
}
