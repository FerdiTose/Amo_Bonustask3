{
 "cells": [
  {
   "cell_type": "code",
   "execution_count": 26,
   "id": "32d7f83e",
   "metadata": {},
   "outputs": [
    {
     "name": "stderr",
     "output_type": "stream",
     "text": [
      "\u001b[32m\u001b[1m  Activating\u001b[22m\u001b[39m project at `C:\\Users\\Ferdi`\n"
     ]
    }
   ],
   "source": [
    "using Pkg\n",
    "Pkg.activate(\".\")\n",
    "Pkg.instantiate()"
   ]
  },
  {
   "cell_type": "code",
   "execution_count": 27,
   "id": "0576426c",
   "metadata": {},
   "outputs": [],
   "source": [
    "using HiGHS\n",
    "using JuMP\n",
    "using Plots\n",
    "using XLSX\n",
    "using DataFrames\n",
    "using Ipopt\n",
    "using Complementarity"
   ]
  },
  {
   "cell_type": "code",
   "execution_count": 28,
   "id": "682cda50",
   "metadata": {},
   "outputs": [
    {
     "data": {
      "text/plain": [
       "3×3 Matrix{Int64}:\n",
       "  5  10  10\n",
       " 15  20  15\n",
       " 30  15  10"
      ]
     },
     "execution_count": 28,
     "metadata": {},
     "output_type": "execute_result"
    }
   ],
   "source": [
    "T=3 #Number of time periods\n",
    "W=3 #Number of scenarios\n",
    "probW=[0.2,0.3,0.5] #Probability of scenarios\n",
    "\n",
    "EGmax=5 #max energy production Mw at VPP\n",
    "EGmin=1 #min \"\"\n",
    "\n",
    "ELmax=2   #max energy consumption\n",
    "ELmin=0.5 #min \"\"\n",
    "EL_floor= 2 # energy must be consumend in T\n",
    "\n",
    "PdSmax=0.5 #max discharging power\n",
    "PcSmax=0.3 #max charging power\n",
    "ndS=0.8 #loss by discharging\n",
    "ncS=0.8 #loss by charging \n",
    "ESmax=1   #max energy storage\n",
    "ESmin=0.2 #min \"\" \n",
    "E_S0=0.6 #energy storage t=0\n",
    "\n",
    "PWexcept=[3.3,3.0,3.00] #forcast power production for periods\n",
    "PW=[2.5 6.0 2.0; #power production at t in w\n",
    "    4.0 4.0 1.1;\n",
    "    6.0 3.5 1.5]\n",
    "\n",
    "yD=[20,80,45] #market price\n",
    "\n",
    "Utility=[10 20 10; #utility at t in w\n",
    "    50 20 20;\n",
    "    10 30 10]\n",
    "Cost = [5 10 10; #cost of production at t in w\n",
    "    15 20 15;\n",
    "    30 15 10]"
   ]
  },
  {
   "cell_type": "code",
   "execution_count": 29,
   "id": "31d5042f",
   "metadata": {},
   "outputs": [
    {
     "data": {
      "text/plain": [
       "3×3 Matrix{ConstraintRef{Model, MathOptInterface.ConstraintIndex{MathOptInterface.ScalarAffineFunction{Float64}, MathOptInterface.EqualTo{Float64}}, ScalarShape}}:\n",
       " energybalance[1,1] : E_G[1,1] - E_L[1,1] + Pd_S[1,1] - Pc_S[3,1] - P_D[1] - PWcurt[1,1] == -2.5  …  energybalance[1,3] : E_G[1,3] - E_L[1,3] + Pd_S[1,3] - Pc_S[3,3] - P_D[1] - PWcurt[1,3] == -2\n",
       " energybalance[2,1] : E_G[2,1] - E_L[2,1] + Pd_S[2,1] - Pc_S[3,1] - P_D[2] - PWcurt[2,1] == -4       energybalance[2,3] : E_G[2,3] - E_L[2,3] + Pd_S[2,3] - Pc_S[3,3] - P_D[2] - PWcurt[2,3] == -1.1\n",
       " energybalance[3,1] : E_G[3,1] - E_L[3,1] + Pd_S[3,1] - Pc_S[3,1] - P_D[3] - PWcurt[3,1] == -6       energybalance[3,3] : E_G[3,3] - E_L[3,3] + Pd_S[3,3] - Pc_S[3,3] - P_D[3] - PWcurt[3,3] == -1.5"
      ]
     },
     "execution_count": 29,
     "metadata": {},
     "output_type": "execute_result"
    }
   ],
   "source": [
    "m3 = Model(HiGHS.Optimizer)\n",
    "\n",
    "\n",
    "@variable(m3, v[t in 1:T, w in 1:W], Bin)\n",
    "@variable(m3, E_G[t in 1:T, w in 1:W])\n",
    "@variable(m3, E_L[t in 1:T, w in 1:W])\n",
    "@variable(m3, E_S[t in 1:T, w in 1:W])\n",
    "@variable(m3, Pd_S[t in 1:T, w in 1:W] >= 0)\n",
    "@variable(m3, Pc_S[t in 1:T, w in 1:W] >= 0)\n",
    "@variable(m3, P_D[t in 1:T])\n",
    "@variable(m3, PWcurt[t in 1:T, w in 1:W] >= 0)\n",
    "\n",
    "@constraint(m3, VPPenergyproductionlow[t in 1:T, w in 1:W], v[t,w]*EGmin <= E_G[t,w])\n",
    "@constraint(m3, VPPenergyproductionup[t in 1:T, w in 1:W], E_G[t,w] <= v[t,w]*EGmax)\n",
    "\n",
    "@constraint(m3, loadenergyconsumption[t in 1:T, w in 1:W], ELmin <= E_L[t,w] <= ELmax)\n",
    "@constraint(m3, floorenergyconsumption[t in 1:T, w in 1:W], EL_floor <= sum(E_L[t,w] for t in 1:T))\n",
    "\n",
    "\n",
    "@constraint(m3, storagedischarging[t in 1:T, w in 1:W], Pd_S[t,w] <= PdSmax)\n",
    "@constraint(m3, storagecharging[t in 1:T, w in 1:W], Pc_S[t,w] <= PcSmax)\n",
    "@constraint(m3, storagelevel1[t in 1:1, w in 1:W], E_S[t,w] == E_S0 + ncS*Pc_S[t,w] - (1/ndS)*Pd_S[t,w])\n",
    "\n",
    "\n",
    "@constraint(m3, storagelevel[t in 1:T, w in 1:W], E_S[t,w] == E_S[t,w] + ncS*Pc_S[t,w] - (1/ndS)*Pd_S[t,w])\n",
    "@constraint(m3, storagelevelcapacity[t in 1:T, w in 1:W], ESmin <= E_S[t,w] <=ESmax)\n",
    "@constraint(m3, PVproductioncurtailment[t in 1:T, w in 1:W], PWcurt[t,w] <= PW[t,w])\n",
    "\n",
    "@constraint(m3, energybalance[t in 1:T, w in 1:W], E_G[t,w] + PW[t,w] - PWcurt[t,w] + Pd_S[t,w] == E_L[t,w] + Pc_S[T,w] + P_D[t])\n"
   ]
  },
  {
   "cell_type": "code",
   "execution_count": 30,
   "id": "aed20a1b",
   "metadata": {},
   "outputs": [
    {
     "name": "stdout",
     "output_type": "stream",
     "text": [
      "Running HiGHS 1.6.0: Copyright (c) 2023 HiGHS under MIT licence terms\n",
      "Presolving model\n",
      "36 rows, 48 cols, 114 nonzeros\n",
      "30 rows, 42 cols, 90 nonzeros\n",
      "Objective function is integral with scale 1\n",
      "\n",
      "Solving MIP model with:\n",
      "   30 rows\n",
      "   42 cols (9 binary, 0 integer, 0 implied int., 33 continuous)\n",
      "   90 nonzeros\n",
      "\n",
      "        Nodes      |    B&B Tree     |            Objective Bounds              |  Dynamic Constraints |       Work      \n",
      "     Proc. InQueue |  Leaves   Expl. | BestBound       BestSol              Gap |   Cuts   InLp Confl. | LpIters     Time\n",
      "\n",
      "         0       0         0   0.00%   0               inf                  inf        0      0      0         0     0.0s\n",
      "\n",
      "Solving report\n",
      "  Status            Optimal\n",
      "  Primal bound      0\n",
      "  Dual bound        0\n",
      "  Gap               0% (tolerance: 0.01%)\n",
      "  Solution status   feasible\n",
      "                    0 (objective)\n",
      "                    0 (bound viol.)\n",
      "                    0 (int. viol.)\n",
      "                    0 (row viol.)\n",
      "  Timing            0.01 (total)\n",
      "                    0.00 (presolve)\n",
      "                    0.00 (postsolve)\n",
      "  Nodes             1\n",
      "  LP iterations     12 (total)\n",
      "                    0 (strong br.)\n",
      "                    0 (separation)\n",
      "                    0 (heuristics)\n"
     ]
    }
   ],
   "source": [
    "optimize!(m3)"
   ]
  },
  {
   "cell_type": "code",
   "execution_count": 31,
   "id": "b5fe0895",
   "metadata": {},
   "outputs": [
    {
     "ename": "LoadError",
     "evalue": "syntax: extra token \"\"\" after end of expression",
     "output_type": "error",
     "traceback": [
      "syntax: extra token \"\"\" after end of expression",
      "",
      "Stacktrace:",
      " [1] top-level scope",
      "   @ In[31]:1"
     ]
    }
   ],
   "source": [
    "echo \"# Amo_Bonustask3\" >> README.md\n",
    "  git init\n",
    "  git add README.md\n",
    "  git commit -m \"first commit\"\n",
    "  git branch -M main\n",
    "  git remote add origin https://github.com/FerdiTose/Amo_Bonustask3.git\n",
    "  git push -u origin main"
   ]
  },
  {
   "cell_type": "code",
   "execution_count": null,
   "id": "3f09b2d5",
   "metadata": {},
   "outputs": [],
   "source": []
  }
 ],
 "metadata": {
  "kernelspec": {
   "display_name": "Julia 1.9.3",
   "language": "julia",
   "name": "julia-1.9"
  },
  "language_info": {
   "file_extension": ".jl",
   "mimetype": "application/julia",
   "name": "julia",
   "version": "1.9.3"
  }
 },
 "nbformat": 4,
 "nbformat_minor": 5
}
